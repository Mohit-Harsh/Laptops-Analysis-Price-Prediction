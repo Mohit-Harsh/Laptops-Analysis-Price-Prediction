{
 "cells": [
  {
   "cell_type": "code",
   "execution_count": 199,
   "metadata": {},
   "outputs": [],
   "source": [
    "import pandas as pd\n",
    "import numpy as np\n",
    "import seaborn as sns\n",
    "from sklearn.preprocessing import LabelEncoder\n",
    "pd.set_option('display.max_columns', None)"
   ]
  },
  {
   "cell_type": "code",
   "execution_count": 200,
   "metadata": {},
   "outputs": [],
   "source": [
    "hp = pd.read_json('hp.json')\n",
    "dell = pd.read_json('dell.json')\n",
    "lenovo = pd.read_json('lenovo.json')\n",
    "acer = pd.read_json('acer.json')\n",
    "asus = pd.read_json('asus.json')\n",
    "msi = pd.read_json('msi.json')"
   ]
  },
  {
   "cell_type": "code",
   "execution_count": 201,
   "metadata": {},
   "outputs": [],
   "source": [
    "df = pd.concat([hp,dell,lenovo,acer,asus,msi],axis=0,ignore_index=True)"
   ]
  },
  {
   "cell_type": "code",
   "execution_count": 202,
   "metadata": {},
   "outputs": [],
   "source": [
    "df.reset_index(inplace=True)\n",
    "df.drop(['index'],axis=1,inplace=True)"
   ]
  },
  {
   "cell_type": "code",
   "execution_count": 203,
   "metadata": {},
   "outputs": [
    {
     "data": {
      "text/html": [
       "<div>\n",
       "<style scoped>\n",
       "    .dataframe tbody tr th:only-of-type {\n",
       "        vertical-align: middle;\n",
       "    }\n",
       "\n",
       "    .dataframe tbody tr th {\n",
       "        vertical-align: top;\n",
       "    }\n",
       "\n",
       "    .dataframe thead th {\n",
       "        text-align: right;\n",
       "    }\n",
       "</style>\n",
       "<table border=\"1\" class=\"dataframe\">\n",
       "  <thead>\n",
       "    <tr style=\"text-align: right;\">\n",
       "      <th></th>\n",
       "      <th>brand</th>\n",
       "      <th>processor_brand</th>\n",
       "      <th>processor_name</th>\n",
       "      <th>ram</th>\n",
       "      <th>ram_type</th>\n",
       "      <th>ssd</th>\n",
       "      <th>clock</th>\n",
       "      <th>gpu</th>\n",
       "      <th>gpu_memory</th>\n",
       "      <th>price</th>\n",
       "    </tr>\n",
       "  </thead>\n",
       "  <tbody>\n",
       "    <tr>\n",
       "      <th>0</th>\n",
       "      <td>SAMSUNG</td>\n",
       "      <td>Intel</td>\n",
       "      <td>Core i7</td>\n",
       "      <td>16 GB</td>\n",
       "      <td>LPDDR4X</td>\n",
       "      <td>512 GB</td>\n",
       "      <td>Max Turbo Frequency up to 5.0 GHz</td>\n",
       "      <td>Intel Integrated Iris Xe</td>\n",
       "      <td>0</td>\n",
       "      <td>₹86,990</td>\n",
       "    </tr>\n",
       "    <tr>\n",
       "      <th>1</th>\n",
       "      <td>SAMSUNG</td>\n",
       "      <td>Intel</td>\n",
       "      <td>Core i5</td>\n",
       "      <td>8 GB</td>\n",
       "      <td>LPDDR4X</td>\n",
       "      <td>512 GB</td>\n",
       "      <td>Max Turbo Frequency up to 4.6 GHz</td>\n",
       "      <td>Intel Integrated Iris Xe</td>\n",
       "      <td>0</td>\n",
       "      <td>₹71,990</td>\n",
       "    </tr>\n",
       "    <tr>\n",
       "      <th>2</th>\n",
       "      <td>HP</td>\n",
       "      <td>AMD</td>\n",
       "      <td>Athlon Dual Core</td>\n",
       "      <td>8 GB</td>\n",
       "      <td>DDR4</td>\n",
       "      <td>512 GB</td>\n",
       "      <td>2.3 GHz with Turbo Boost Upto 3.2 GHz</td>\n",
       "      <td>AMD Radeon AMD</td>\n",
       "      <td>0</td>\n",
       "      <td>₹26,990</td>\n",
       "    </tr>\n",
       "    <tr>\n",
       "      <th>3</th>\n",
       "      <td>HP</td>\n",
       "      <td>Intel</td>\n",
       "      <td>Core i3</td>\n",
       "      <td>8 GB</td>\n",
       "      <td>DDR4</td>\n",
       "      <td>512 GB</td>\n",
       "      <td>Base Frequency 1.70 Ghz, Max Turbo Boost Frequ...</td>\n",
       "      <td>Intel Integrated UHD</td>\n",
       "      <td>0</td>\n",
       "      <td>₹35,990</td>\n",
       "    </tr>\n",
       "    <tr>\n",
       "      <th>4</th>\n",
       "      <td>HP</td>\n",
       "      <td>Intel</td>\n",
       "      <td>Core i3</td>\n",
       "      <td>8 GB</td>\n",
       "      <td>DDR4</td>\n",
       "      <td>512 GB</td>\n",
       "      <td>0.9 GHz upto max turbo frequency at 4.4 Ghz</td>\n",
       "      <td>Intel Integrated UHD</td>\n",
       "      <td>0</td>\n",
       "      <td>₹37,990</td>\n",
       "    </tr>\n",
       "  </tbody>\n",
       "</table>\n",
       "</div>"
      ],
      "text/plain": [
       "     brand processor_brand    processor_name    ram ram_type     ssd  \\\n",
       "0  SAMSUNG           Intel           Core i7  16 GB  LPDDR4X  512 GB   \n",
       "1  SAMSUNG           Intel           Core i5   8 GB  LPDDR4X  512 GB   \n",
       "2       HP             AMD  Athlon Dual Core   8 GB     DDR4  512 GB   \n",
       "3       HP           Intel           Core i3   8 GB     DDR4  512 GB   \n",
       "4       HP           Intel           Core i3   8 GB     DDR4  512 GB   \n",
       "\n",
       "                                               clock  \\\n",
       "0                  Max Turbo Frequency up to 5.0 GHz   \n",
       "1                  Max Turbo Frequency up to 4.6 GHz   \n",
       "2              2.3 GHz with Turbo Boost Upto 3.2 GHz   \n",
       "3  Base Frequency 1.70 Ghz, Max Turbo Boost Frequ...   \n",
       "4        0.9 GHz upto max turbo frequency at 4.4 Ghz   \n",
       "\n",
       "                        gpu gpu_memory    price  \n",
       "0  Intel Integrated Iris Xe          0  ₹86,990  \n",
       "1  Intel Integrated Iris Xe          0  ₹71,990  \n",
       "2            AMD Radeon AMD          0  ₹26,990  \n",
       "3      Intel Integrated UHD          0  ₹35,990  \n",
       "4      Intel Integrated UHD          0  ₹37,990  "
      ]
     },
     "execution_count": 203,
     "metadata": {},
     "output_type": "execute_result"
    }
   ],
   "source": [
    "df.head(5)"
   ]
  },
  {
   "cell_type": "code",
   "execution_count": 204,
   "metadata": {},
   "outputs": [
    {
     "name": "stdout",
     "output_type": "stream",
     "text": [
      "<class 'pandas.core.frame.DataFrame'>\n",
      "RangeIndex: 1082 entries, 0 to 1081\n",
      "Data columns (total 10 columns):\n",
      " #   Column           Non-Null Count  Dtype \n",
      "---  ------           --------------  ----- \n",
      " 0   brand            1082 non-null   object\n",
      " 1   processor_brand  1082 non-null   object\n",
      " 2   processor_name   1082 non-null   object\n",
      " 3   ram              1082 non-null   object\n",
      " 4   ram_type         1082 non-null   object\n",
      " 5   ssd              1082 non-null   object\n",
      " 6   clock            1082 non-null   object\n",
      " 7   gpu              1082 non-null   object\n",
      " 8   gpu_memory       1082 non-null   object\n",
      " 9   price            1082 non-null   object\n",
      "dtypes: object(10)\n",
      "memory usage: 84.7+ KB\n"
     ]
    }
   ],
   "source": [
    "df.info()"
   ]
  },
  {
   "cell_type": "code",
   "execution_count": 205,
   "metadata": {},
   "outputs": [
    {
     "data": {
      "text/plain": [
       "array(['Intel', 'AMD', 'MediaTek', 'ARM'], dtype=object)"
      ]
     },
     "execution_count": 205,
     "metadata": {},
     "output_type": "execute_result"
    }
   ],
   "source": [
    "df['processor_brand'].unique()"
   ]
  },
  {
   "cell_type": "code",
   "execution_count": 206,
   "metadata": {},
   "outputs": [
    {
     "data": {
      "text/plain": [
       "processor_brand\n",
       "AMD         304\n",
       "ARM           1\n",
       "Intel       776\n",
       "MediaTek      1\n",
       "dtype: int64"
      ]
     },
     "execution_count": 206,
     "metadata": {},
     "output_type": "execute_result"
    }
   ],
   "source": [
    "df.groupby('processor_brand').size()"
   ]
  },
  {
   "cell_type": "code",
   "execution_count": 207,
   "metadata": {},
   "outputs": [],
   "source": [
    "df = df[df['processor_brand']!='ARM']\n",
    "df = df[df['processor_brand']!='MediaTek']"
   ]
  },
  {
   "cell_type": "code",
   "execution_count": 208,
   "metadata": {},
   "outputs": [
    {
     "data": {
      "text/plain": [
       "array(['Intel', 'AMD'], dtype=object)"
      ]
     },
     "execution_count": 208,
     "metadata": {},
     "output_type": "execute_result"
    }
   ],
   "source": [
    "df['processor_brand'].unique()"
   ]
  },
  {
   "cell_type": "code",
   "execution_count": 209,
   "metadata": {},
   "outputs": [],
   "source": [
    "df.reset_index(inplace=True)\n",
    "df.drop(['index'],axis=1,inplace=True)"
   ]
  },
  {
   "cell_type": "code",
   "execution_count": 210,
   "metadata": {},
   "outputs": [
    {
     "data": {
      "text/plain": [
       "ram_type\n",
       "DDR          3\n",
       "DDR3         6\n",
       "DDR4       731\n",
       "DDR4X        2\n",
       "DDR5       174\n",
       "LPDDR3       1\n",
       "LPDDR4X     52\n",
       "LPDDR5     111\n",
       "dtype: int64"
      ]
     },
     "execution_count": 210,
     "metadata": {},
     "output_type": "execute_result"
    }
   ],
   "source": [
    "df.groupby('ram_type').size()"
   ]
  },
  {
   "cell_type": "code",
   "execution_count": 211,
   "metadata": {},
   "outputs": [
    {
     "data": {
      "text/plain": [
       "[862, 961, 1014, 164, 356, 709, 717, 723, 749, 71, 679, 148]"
      ]
     },
     "execution_count": 211,
     "metadata": {},
     "output_type": "execute_result"
    }
   ],
   "source": [
    "ddr = np.where(df['ram_type']=='DDR')[0].tolist()\n",
    "ddr3 = np.where(df['ram_type']=='DDR3')[0].tolist()\n",
    "ddr4x = np.where(df['ram_type']=='DDR4X')[0].tolist()\n",
    "lpddr3 = np.where(df['ram_type']=='LPDDR3')[0].tolist()\n",
    "index = ddr+ddr3+ddr4x+lpddr3\n",
    "index"
   ]
  },
  {
   "cell_type": "code",
   "execution_count": 212,
   "metadata": {},
   "outputs": [],
   "source": [
    "df.drop(index,axis=0,inplace=True)\n",
    "df.reset_index(inplace=True)\n",
    "df.drop(['index'],axis=1,inplace=True)"
   ]
  },
  {
   "cell_type": "code",
   "execution_count": 213,
   "metadata": {},
   "outputs": [
    {
     "data": {
      "text/plain": [
       "array(['LPDDR4X', 'DDR4', 'LPDDR5', 'DDR5'], dtype=object)"
      ]
     },
     "execution_count": 213,
     "metadata": {},
     "output_type": "execute_result"
    }
   ],
   "source": [
    "df['ram_type'].unique()"
   ]
  },
  {
   "cell_type": "code",
   "execution_count": 214,
   "metadata": {},
   "outputs": [
    {
     "name": "stdout",
     "output_type": "stream",
     "text": [
      "<class 'pandas.core.frame.DataFrame'>\n",
      "RangeIndex: 1068 entries, 0 to 1067\n",
      "Data columns (total 10 columns):\n",
      " #   Column           Non-Null Count  Dtype \n",
      "---  ------           --------------  ----- \n",
      " 0   brand            1068 non-null   object\n",
      " 1   processor_brand  1068 non-null   object\n",
      " 2   processor_name   1068 non-null   object\n",
      " 3   ram              1068 non-null   object\n",
      " 4   ram_type         1068 non-null   object\n",
      " 5   ssd              1068 non-null   object\n",
      " 6   clock            1068 non-null   object\n",
      " 7   gpu              1068 non-null   object\n",
      " 8   gpu_memory       1068 non-null   object\n",
      " 9   price            1068 non-null   object\n",
      "dtypes: object(10)\n",
      "memory usage: 83.6+ KB\n"
     ]
    }
   ],
   "source": [
    "df.info()"
   ]
  },
  {
   "cell_type": "code",
   "execution_count": 215,
   "metadata": {},
   "outputs": [
    {
     "data": {
      "text/plain": [
       "processor_name\n",
       "Athlon Dual Core       14\n",
       "Celeron Dual Core      16\n",
       "Core i3               148\n",
       "Core i5               369\n",
       "Core i7               201\n",
       "Core i9                32\n",
       "Dual Core               1\n",
       "Pentium Quad Core       1\n",
       "Ryzen 3 Dual Core      18\n",
       "Ryzen 3 Hexa Core       1\n",
       "Ryzen 3 Quad Core      21\n",
       "Ryzen 5                 1\n",
       "Ryzen 5 Dual Core       2\n",
       "Ryzen 5 Hexa Core     120\n",
       "Ryzen 5 Quad Core      27\n",
       "Ryzen 7 Hexa Core       1\n",
       "Ryzen 7 Octa Core      80\n",
       "Ryzen 7 Quad Core       1\n",
       "Ryzen 9 16 Core         1\n",
       "Ryzen 9 Octa Core      11\n",
       "Ryzen Z1 HexaCore       1\n",
       "Ryzen Z1 Octa Core      1\n",
       "dtype: int64"
      ]
     },
     "execution_count": 215,
     "metadata": {},
     "output_type": "execute_result"
    }
   ],
   "source": [
    "df.groupby('processor_name').size()"
   ]
  },
  {
   "cell_type": "code",
   "execution_count": 216,
   "metadata": {},
   "outputs": [],
   "source": [
    "processors = ['Core i3','Core i5','Core i7','Core i9','Ryzen 3 Dual Core','Ryzen 3 Quad Core',\n",
    "              'Ryzen 5 Hexa Core','Ryzen 5 Quad Core','Ryzen 7 Octa Core','Ryzen 9 Octa Core']\n",
    "\n",
    "p = np.where(df['processor_name'].isin(processors))"
   ]
  },
  {
   "cell_type": "code",
   "execution_count": 217,
   "metadata": {},
   "outputs": [
    {
     "data": {
      "text/plain": [
       "array(['Core i7', 'Core i5', 'Core i3', 'Ryzen 5 Hexa Core',\n",
       "       'Ryzen 3 Dual Core', 'Ryzen 3 Quad Core', 'Ryzen 7 Octa Core',\n",
       "       'Ryzen 5 Quad Core', 'Core i9', 'Ryzen 9 Octa Core'], dtype=object)"
      ]
     },
     "execution_count": 217,
     "metadata": {},
     "output_type": "execute_result"
    }
   ],
   "source": [
    "data = df.iloc[p[0].tolist()].reset_index().drop(['index'],axis=1)\n",
    "data['processor_name'].unique()"
   ]
  },
  {
   "cell_type": "code",
   "execution_count": 218,
   "metadata": {},
   "outputs": [
    {
     "data": {
      "text/html": [
       "<div>\n",
       "<style scoped>\n",
       "    .dataframe tbody tr th:only-of-type {\n",
       "        vertical-align: middle;\n",
       "    }\n",
       "\n",
       "    .dataframe tbody tr th {\n",
       "        vertical-align: top;\n",
       "    }\n",
       "\n",
       "    .dataframe thead th {\n",
       "        text-align: right;\n",
       "    }\n",
       "</style>\n",
       "<table border=\"1\" class=\"dataframe\">\n",
       "  <thead>\n",
       "    <tr style=\"text-align: right;\">\n",
       "      <th></th>\n",
       "      <th>brand</th>\n",
       "      <th>processor_brand</th>\n",
       "      <th>processor_name</th>\n",
       "      <th>ram</th>\n",
       "      <th>ram_type</th>\n",
       "      <th>ssd</th>\n",
       "      <th>clock</th>\n",
       "      <th>gpu</th>\n",
       "      <th>gpu_memory</th>\n",
       "      <th>price</th>\n",
       "    </tr>\n",
       "  </thead>\n",
       "  <tbody>\n",
       "    <tr>\n",
       "      <th>0</th>\n",
       "      <td>SAMSUNG</td>\n",
       "      <td>Intel</td>\n",
       "      <td>Core i7</td>\n",
       "      <td>16 GB</td>\n",
       "      <td>LPDDR4X</td>\n",
       "      <td>512 GB</td>\n",
       "      <td>Max Turbo Frequency up to 5.0 GHz</td>\n",
       "      <td>Intel Integrated Iris Xe</td>\n",
       "      <td>0</td>\n",
       "      <td>₹86,990</td>\n",
       "    </tr>\n",
       "    <tr>\n",
       "      <th>1</th>\n",
       "      <td>SAMSUNG</td>\n",
       "      <td>Intel</td>\n",
       "      <td>Core i5</td>\n",
       "      <td>8 GB</td>\n",
       "      <td>LPDDR4X</td>\n",
       "      <td>512 GB</td>\n",
       "      <td>Max Turbo Frequency up to 4.6 GHz</td>\n",
       "      <td>Intel Integrated Iris Xe</td>\n",
       "      <td>0</td>\n",
       "      <td>₹71,990</td>\n",
       "    </tr>\n",
       "    <tr>\n",
       "      <th>2</th>\n",
       "      <td>HP</td>\n",
       "      <td>Intel</td>\n",
       "      <td>Core i3</td>\n",
       "      <td>8 GB</td>\n",
       "      <td>DDR4</td>\n",
       "      <td>512 GB</td>\n",
       "      <td>Base Frequency 1.70 Ghz, Max Turbo Boost Frequ...</td>\n",
       "      <td>Intel Integrated UHD</td>\n",
       "      <td>0</td>\n",
       "      <td>₹35,990</td>\n",
       "    </tr>\n",
       "    <tr>\n",
       "      <th>3</th>\n",
       "      <td>HP</td>\n",
       "      <td>Intel</td>\n",
       "      <td>Core i3</td>\n",
       "      <td>8 GB</td>\n",
       "      <td>DDR4</td>\n",
       "      <td>512 GB</td>\n",
       "      <td>0.9 GHz upto max turbo frequency at 4.4 Ghz</td>\n",
       "      <td>Intel Integrated UHD</td>\n",
       "      <td>0</td>\n",
       "      <td>₹37,990</td>\n",
       "    </tr>\n",
       "    <tr>\n",
       "      <th>4</th>\n",
       "      <td>HP</td>\n",
       "      <td>AMD</td>\n",
       "      <td>Ryzen 5 Hexa Core</td>\n",
       "      <td>16 GB</td>\n",
       "      <td>DDR4</td>\n",
       "      <td>512 GB</td>\n",
       "      <td>Up to 4.0 GHz max boost clock</td>\n",
       "      <td>AMD Radeon Radeon Graphics</td>\n",
       "      <td>0</td>\n",
       "      <td>₹41,990</td>\n",
       "    </tr>\n",
       "  </tbody>\n",
       "</table>\n",
       "</div>"
      ],
      "text/plain": [
       "     brand processor_brand     processor_name    ram ram_type     ssd  \\\n",
       "0  SAMSUNG           Intel            Core i7  16 GB  LPDDR4X  512 GB   \n",
       "1  SAMSUNG           Intel            Core i5   8 GB  LPDDR4X  512 GB   \n",
       "2       HP           Intel            Core i3   8 GB     DDR4  512 GB   \n",
       "3       HP           Intel            Core i3   8 GB     DDR4  512 GB   \n",
       "4       HP             AMD  Ryzen 5 Hexa Core  16 GB     DDR4  512 GB   \n",
       "\n",
       "                                               clock  \\\n",
       "0                  Max Turbo Frequency up to 5.0 GHz   \n",
       "1                  Max Turbo Frequency up to 4.6 GHz   \n",
       "2  Base Frequency 1.70 Ghz, Max Turbo Boost Frequ...   \n",
       "3        0.9 GHz upto max turbo frequency at 4.4 Ghz   \n",
       "4                      Up to 4.0 GHz max boost clock   \n",
       "\n",
       "                          gpu gpu_memory    price  \n",
       "0    Intel Integrated Iris Xe          0  ₹86,990  \n",
       "1    Intel Integrated Iris Xe          0  ₹71,990  \n",
       "2        Intel Integrated UHD          0  ₹35,990  \n",
       "3        Intel Integrated UHD          0  ₹37,990  \n",
       "4  AMD Radeon Radeon Graphics          0  ₹41,990  "
      ]
     },
     "execution_count": 218,
     "metadata": {},
     "output_type": "execute_result"
    }
   ],
   "source": [
    "data.head(5)"
   ]
  },
  {
   "cell_type": "code",
   "execution_count": 219,
   "metadata": {},
   "outputs": [],
   "source": [
    "gpus = list(zip(data.groupby('gpu').size().index,data.groupby('gpu').size()))"
   ]
  },
  {
   "cell_type": "code",
   "execution_count": 220,
   "metadata": {},
   "outputs": [],
   "source": [
    "gpu = [x[0] for x in gpus if x[1]>=5]"
   ]
  },
  {
   "cell_type": "code",
   "execution_count": 221,
   "metadata": {},
   "outputs": [
    {
     "data": {
      "text/plain": [
       "['AMD Radeon',\n",
       " 'AMD Radeon AMD',\n",
       " 'AMD Radeon Radeon',\n",
       " 'AMD Radeon Radeon Graphics',\n",
       " 'Intel Integrated Integrated',\n",
       " 'Intel Integrated Iris Xe',\n",
       " 'Intel Integrated Iris Xe Graphics',\n",
       " 'Intel Integrated UHD',\n",
       " 'Intel Integrated UHD Graphics',\n",
       " 'NA',\n",
       " 'NVIDIA GeForce GTX 1650',\n",
       " 'NVIDIA GeForce MX350',\n",
       " 'NVIDIA GeForce MX550',\n",
       " 'NVIDIA GeForce RTX 2050',\n",
       " 'NVIDIA GeForce RTX 3050',\n",
       " 'NVIDIA GeForce RTX 3050 Ti',\n",
       " 'NVIDIA GeForce RTX 3060',\n",
       " 'NVIDIA GeForce RTX 3070',\n",
       " 'NVIDIA GeForce RTX 3070 Ti',\n",
       " 'NVIDIA GeForce RTX 4050',\n",
       " 'NVIDIA GeForce RTX 4060',\n",
       " 'NVIDIA GeForce RTX 4070']"
      ]
     },
     "execution_count": 221,
     "metadata": {},
     "output_type": "execute_result"
    }
   ],
   "source": [
    "gpu"
   ]
  },
  {
   "cell_type": "code",
   "execution_count": 222,
   "metadata": {},
   "outputs": [
    {
     "data": {
      "text/plain": [
       "910"
      ]
     },
     "execution_count": 222,
     "metadata": {},
     "output_type": "execute_result"
    }
   ],
   "source": [
    "mask = ['AMD Radeon', 'AMD Radeon AMD', 'AMD Radeon Radeon', 'AMD Radeon Radeon Graphics', 'Intel Integrated Integrated',\n",
    " 'Intel Integrated Iris Xe', 'Intel Integrated Iris Xe Graphics', 'Intel Integrated UHD', 'Intel Integrated UHD Graphics',\n",
    " 'NVIDIA GeForce GTX 1650', 'NVIDIA GeForce MX350', 'NVIDIA GeForce MX550', 'NVIDIA GeForce RTX 2050', 'NVIDIA GeForce RTX 3050',\n",
    " 'NVIDIA GeForce RTX 3050 Ti', 'NVIDIA GeForce RTX 3060', 'NVIDIA GeForce RTX 3070', 'NVIDIA GeForce RTX 3070 Ti',\n",
    " 'NVIDIA GeForce RTX 4050', 'NVIDIA GeForce RTX 4060', 'NVIDIA GeForce RTX 4070']\n",
    "\n",
    "g = np.where(data['gpu'].isin(mask))\n",
    "len(g[0].tolist())"
   ]
  },
  {
   "cell_type": "code",
   "execution_count": 223,
   "metadata": {},
   "outputs": [],
   "source": [
    "data = data.iloc[g[0].tolist()].reset_index().drop(['index'],axis=1)"
   ]
  },
  {
   "cell_type": "code",
   "execution_count": 224,
   "metadata": {},
   "outputs": [
    {
     "data": {
      "text/plain": [
       "array(['Intel Integrated Iris Xe', 'Intel Integrated UHD',\n",
       "       'AMD Radeon Radeon Graphics', 'AMD Radeon AMD',\n",
       "       'Intel Integrated Integrated', 'NVIDIA GeForce RTX 3050',\n",
       "       'NVIDIA GeForce RTX 2050', 'NVIDIA GeForce GTX 1650',\n",
       "       'Intel Integrated UHD Graphics', 'NVIDIA GeForce RTX 4060',\n",
       "       'AMD Radeon Radeon', 'NVIDIA GeForce RTX 4050',\n",
       "       'Intel Integrated Iris Xe Graphics', 'NVIDIA GeForce RTX 3060',\n",
       "       'NVIDIA GeForce RTX 4070', 'NVIDIA GeForce RTX 3050 Ti',\n",
       "       'NVIDIA GeForce RTX 3070', 'NVIDIA GeForce RTX 3070 Ti',\n",
       "       'NVIDIA GeForce MX550', 'NVIDIA GeForce MX350', 'AMD Radeon'],\n",
       "      dtype=object)"
      ]
     },
     "execution_count": 224,
     "metadata": {},
     "output_type": "execute_result"
    }
   ],
   "source": [
    "data['gpu'].unique()"
   ]
  },
  {
   "cell_type": "code",
   "execution_count": 225,
   "metadata": {},
   "outputs": [
    {
     "data": {
      "text/html": [
       "<div>\n",
       "<style scoped>\n",
       "    .dataframe tbody tr th:only-of-type {\n",
       "        vertical-align: middle;\n",
       "    }\n",
       "\n",
       "    .dataframe tbody tr th {\n",
       "        vertical-align: top;\n",
       "    }\n",
       "\n",
       "    .dataframe thead th {\n",
       "        text-align: right;\n",
       "    }\n",
       "</style>\n",
       "<table border=\"1\" class=\"dataframe\">\n",
       "  <thead>\n",
       "    <tr style=\"text-align: right;\">\n",
       "      <th></th>\n",
       "      <th>brand</th>\n",
       "      <th>processor_brand</th>\n",
       "      <th>processor_name</th>\n",
       "      <th>ram</th>\n",
       "      <th>ram_type</th>\n",
       "      <th>ssd</th>\n",
       "      <th>clock</th>\n",
       "      <th>gpu</th>\n",
       "      <th>gpu_memory</th>\n",
       "      <th>price</th>\n",
       "    </tr>\n",
       "  </thead>\n",
       "  <tbody>\n",
       "    <tr>\n",
       "      <th>684</th>\n",
       "      <td>ASUS</td>\n",
       "      <td>AMD</td>\n",
       "      <td>Ryzen 3 Quad Core</td>\n",
       "      <td>8 GB</td>\n",
       "      <td>LPDDR5</td>\n",
       "      <td>512 GB</td>\n",
       "      <td>2.4 GHz upto max turbo frequency at 4.1 Ghz</td>\n",
       "      <td>AMD Radeon AMD</td>\n",
       "      <td>0</td>\n",
       "      <td>₹33,990</td>\n",
       "    </tr>\n",
       "    <tr>\n",
       "      <th>656</th>\n",
       "      <td>ASUS</td>\n",
       "      <td>Intel</td>\n",
       "      <td>Core i5</td>\n",
       "      <td>16 GB</td>\n",
       "      <td>DDR4</td>\n",
       "      <td>512 GB</td>\n",
       "      <td>4.5</td>\n",
       "      <td>Intel Integrated Iris Xe Graphics</td>\n",
       "      <td>0</td>\n",
       "      <td>₹67,990</td>\n",
       "    </tr>\n",
       "    <tr>\n",
       "      <th>73</th>\n",
       "      <td>HP</td>\n",
       "      <td>AMD</td>\n",
       "      <td>Ryzen 5 Hexa Core</td>\n",
       "      <td>16 GB</td>\n",
       "      <td>DDR4</td>\n",
       "      <td>512 GB</td>\n",
       "      <td>4.3</td>\n",
       "      <td>AMD Radeon Radeon Graphics</td>\n",
       "      <td>0</td>\n",
       "      <td>₹59,100</td>\n",
       "    </tr>\n",
       "    <tr>\n",
       "      <th>483</th>\n",
       "      <td>Lenovo</td>\n",
       "      <td>AMD</td>\n",
       "      <td>Ryzen 7 Octa Core</td>\n",
       "      <td>16 GB</td>\n",
       "      <td>DDR5</td>\n",
       "      <td>1 TB</td>\n",
       "      <td>Base Frequency 3.6 GHz, Max Turbo Boost at 5.1...</td>\n",
       "      <td>NVIDIA GeForce RTX 4070</td>\n",
       "      <td>8 GB</td>\n",
       "      <td>₹1,62,990</td>\n",
       "    </tr>\n",
       "    <tr>\n",
       "      <th>688</th>\n",
       "      <td>Lenovo</td>\n",
       "      <td>AMD</td>\n",
       "      <td>Ryzen 5 Hexa Core</td>\n",
       "      <td>16 GB</td>\n",
       "      <td>LPDDR4X</td>\n",
       "      <td>512 GB</td>\n",
       "      <td>Base Frequency 2.0 GHz, Max Turbo Boost at 4.5...</td>\n",
       "      <td>AMD Radeon AMD</td>\n",
       "      <td>0</td>\n",
       "      <td>₹64,990</td>\n",
       "    </tr>\n",
       "  </tbody>\n",
       "</table>\n",
       "</div>"
      ],
      "text/plain": [
       "      brand processor_brand     processor_name    ram ram_type     ssd  \\\n",
       "684    ASUS             AMD  Ryzen 3 Quad Core   8 GB   LPDDR5  512 GB   \n",
       "656    ASUS           Intel            Core i5  16 GB     DDR4  512 GB   \n",
       "73       HP             AMD  Ryzen 5 Hexa Core  16 GB     DDR4  512 GB   \n",
       "483  Lenovo             AMD  Ryzen 7 Octa Core  16 GB     DDR5    1 TB   \n",
       "688  Lenovo             AMD  Ryzen 5 Hexa Core  16 GB  LPDDR4X  512 GB   \n",
       "\n",
       "                                                 clock  \\\n",
       "684        2.4 GHz upto max turbo frequency at 4.1 Ghz   \n",
       "656                                                4.5   \n",
       "73                                                 4.3   \n",
       "483  Base Frequency 3.6 GHz, Max Turbo Boost at 5.1...   \n",
       "688  Base Frequency 2.0 GHz, Max Turbo Boost at 4.5...   \n",
       "\n",
       "                                   gpu gpu_memory      price  \n",
       "684                     AMD Radeon AMD          0    ₹33,990  \n",
       "656  Intel Integrated Iris Xe Graphics          0    ₹67,990  \n",
       "73          AMD Radeon Radeon Graphics          0    ₹59,100  \n",
       "483            NVIDIA GeForce RTX 4070       8 GB  ₹1,62,990  \n",
       "688                     AMD Radeon AMD          0    ₹64,990  "
      ]
     },
     "execution_count": 225,
     "metadata": {},
     "output_type": "execute_result"
    }
   ],
   "source": [
    "data.sample(5)"
   ]
  },
  {
   "cell_type": "code",
   "execution_count": 226,
   "metadata": {},
   "outputs": [
    {
     "name": "stdout",
     "output_type": "stream",
     "text": [
      "<class 'pandas.core.frame.DataFrame'>\n",
      "RangeIndex: 910 entries, 0 to 909\n",
      "Data columns (total 10 columns):\n",
      " #   Column           Non-Null Count  Dtype \n",
      "---  ------           --------------  ----- \n",
      " 0   brand            910 non-null    object\n",
      " 1   processor_brand  910 non-null    object\n",
      " 2   processor_name   910 non-null    object\n",
      " 3   ram              910 non-null    object\n",
      " 4   ram_type         910 non-null    object\n",
      " 5   ssd              910 non-null    object\n",
      " 6   clock            910 non-null    object\n",
      " 7   gpu              910 non-null    object\n",
      " 8   gpu_memory       910 non-null    object\n",
      " 9   price            910 non-null    object\n",
      "dtypes: object(10)\n",
      "memory usage: 71.2+ KB\n"
     ]
    }
   ],
   "source": [
    "data.info()"
   ]
  },
  {
   "cell_type": "code",
   "execution_count": 227,
   "metadata": {},
   "outputs": [
    {
     "data": {
      "text/plain": [
       "910"
      ]
     },
     "execution_count": 227,
     "metadata": {},
     "output_type": "execute_result"
    }
   ],
   "source": [
    "price = []\n",
    "for p in data['price']:\n",
    "    \n",
    "    a = int(''.join(p[1:].split(',')))\n",
    "    price.append(a)\n",
    "    \n",
    "len(price)"
   ]
  },
  {
   "cell_type": "code",
   "execution_count": 228,
   "metadata": {},
   "outputs": [
    {
     "data": {
      "text/plain": [
       "910"
      ]
     },
     "execution_count": 228,
     "metadata": {},
     "output_type": "execute_result"
    }
   ],
   "source": [
    "gm = []\n",
    "\n",
    "for g in data['gpu_memory']:\n",
    "    \n",
    "    if(g == 0):\n",
    "        gm.append(0)\n",
    "    else:\n",
    "        gm.append(int(g.split('GB')[0].strip()))\n",
    "len(gm)"
   ]
  },
  {
   "cell_type": "code",
   "execution_count": 229,
   "metadata": {},
   "outputs": [
    {
     "data": {
      "text/plain": [
       "910"
      ]
     },
     "execution_count": 229,
     "metadata": {},
     "output_type": "execute_result"
    }
   ],
   "source": [
    "clock=[]\n",
    "\n",
    "for c in data['clock'].tolist():\n",
    "    \n",
    "    try:\n",
    "        \n",
    "        a = c.split('GHz')[-2].strip().split()[-1]\n",
    "        \n",
    "    except:\n",
    "        \n",
    "        a = c.split('Ghz')[0].strip().split()[-1]\n",
    "        \n",
    "    clock.append(float(a))\n",
    "    \n",
    "len(clock)"
   ]
  },
  {
   "cell_type": "code",
   "execution_count": 230,
   "metadata": {},
   "outputs": [
    {
     "data": {
      "text/plain": [
       "910"
      ]
     },
     "execution_count": 230,
     "metadata": {},
     "output_type": "execute_result"
    }
   ],
   "source": [
    "ssd=[]\n",
    "\n",
    "for s in data['ssd']:\n",
    "    \n",
    "    if 'GB' in s:\n",
    "        \n",
    "        ssd.append(int(s.split('GB')[0].strip())/1000)\n",
    "        \n",
    "    elif \"TB\" in s:\n",
    "        \n",
    "        ssd.append(int(s.split('TB')[0].strip()))\n",
    "        \n",
    "len(ssd)"
   ]
  },
  {
   "cell_type": "code",
   "execution_count": 231,
   "metadata": {},
   "outputs": [
    {
     "data": {
      "text/plain": [
       "910"
      ]
     },
     "execution_count": 231,
     "metadata": {},
     "output_type": "execute_result"
    }
   ],
   "source": [
    "ram=[]\n",
    "\n",
    "for r in data['ram']:\n",
    "    \n",
    "    ram.append(int(r.split('GB')[0].strip()))\n",
    "len(ram)"
   ]
  },
  {
   "cell_type": "code",
   "execution_count": 232,
   "metadata": {},
   "outputs": [],
   "source": [
    "final = data.copy()\n",
    "final['ram'] = ram\n",
    "final['gpu_memory'] = gm\n",
    "final['ssd'] = ssd\n",
    "final['clock'] = clock\n",
    "final['price'] = price"
   ]
  },
  {
   "cell_type": "code",
   "execution_count": 233,
   "metadata": {},
   "outputs": [
    {
     "data": {
      "text/html": [
       "<div>\n",
       "<style scoped>\n",
       "    .dataframe tbody tr th:only-of-type {\n",
       "        vertical-align: middle;\n",
       "    }\n",
       "\n",
       "    .dataframe tbody tr th {\n",
       "        vertical-align: top;\n",
       "    }\n",
       "\n",
       "    .dataframe thead th {\n",
       "        text-align: right;\n",
       "    }\n",
       "</style>\n",
       "<table border=\"1\" class=\"dataframe\">\n",
       "  <thead>\n",
       "    <tr style=\"text-align: right;\">\n",
       "      <th></th>\n",
       "      <th>brand</th>\n",
       "      <th>processor_brand</th>\n",
       "      <th>processor_name</th>\n",
       "      <th>ram</th>\n",
       "      <th>ram_type</th>\n",
       "      <th>ssd</th>\n",
       "      <th>clock</th>\n",
       "      <th>gpu</th>\n",
       "      <th>gpu_memory</th>\n",
       "      <th>price</th>\n",
       "    </tr>\n",
       "  </thead>\n",
       "  <tbody>\n",
       "    <tr>\n",
       "      <th>39</th>\n",
       "      <td>HP</td>\n",
       "      <td>Intel</td>\n",
       "      <td>Core i3</td>\n",
       "      <td>8</td>\n",
       "      <td>DDR4</td>\n",
       "      <td>0.512</td>\n",
       "      <td>1.7</td>\n",
       "      <td>Intel Integrated UHD</td>\n",
       "      <td>0</td>\n",
       "      <td>54070</td>\n",
       "    </tr>\n",
       "    <tr>\n",
       "      <th>339</th>\n",
       "      <td>ASUS</td>\n",
       "      <td>Intel</td>\n",
       "      <td>Core i5</td>\n",
       "      <td>16</td>\n",
       "      <td>DDR5</td>\n",
       "      <td>1.000</td>\n",
       "      <td>4.6</td>\n",
       "      <td>NVIDIA GeForce RTX 3050</td>\n",
       "      <td>6</td>\n",
       "      <td>94990</td>\n",
       "    </tr>\n",
       "    <tr>\n",
       "      <th>214</th>\n",
       "      <td>MSI</td>\n",
       "      <td>Intel</td>\n",
       "      <td>Core i7</td>\n",
       "      <td>8</td>\n",
       "      <td>DDR4</td>\n",
       "      <td>0.512</td>\n",
       "      <td>3.5</td>\n",
       "      <td>Intel Integrated Iris Xe</td>\n",
       "      <td>0</td>\n",
       "      <td>60990</td>\n",
       "    </tr>\n",
       "    <tr>\n",
       "      <th>661</th>\n",
       "      <td>MSI</td>\n",
       "      <td>AMD</td>\n",
       "      <td>Ryzen 5 Hexa Core</td>\n",
       "      <td>8</td>\n",
       "      <td>DDR4</td>\n",
       "      <td>0.512</td>\n",
       "      <td>2.0</td>\n",
       "      <td>AMD Radeon AMD</td>\n",
       "      <td>0</td>\n",
       "      <td>35990</td>\n",
       "    </tr>\n",
       "    <tr>\n",
       "      <th>821</th>\n",
       "      <td>MSI</td>\n",
       "      <td>Intel</td>\n",
       "      <td>Core i7</td>\n",
       "      <td>16</td>\n",
       "      <td>DDR4</td>\n",
       "      <td>0.512</td>\n",
       "      <td>4.6</td>\n",
       "      <td>NVIDIA GeForce RTX 2050</td>\n",
       "      <td>4</td>\n",
       "      <td>61990</td>\n",
       "    </tr>\n",
       "  </tbody>\n",
       "</table>\n",
       "</div>"
      ],
      "text/plain": [
       "    brand processor_brand     processor_name  ram ram_type    ssd  clock  \\\n",
       "39     HP           Intel            Core i3    8     DDR4  0.512    1.7   \n",
       "339  ASUS           Intel            Core i5   16     DDR5  1.000    4.6   \n",
       "214   MSI           Intel            Core i7    8     DDR4  0.512    3.5   \n",
       "661   MSI             AMD  Ryzen 5 Hexa Core    8     DDR4  0.512    2.0   \n",
       "821   MSI           Intel            Core i7   16     DDR4  0.512    4.6   \n",
       "\n",
       "                          gpu  gpu_memory  price  \n",
       "39       Intel Integrated UHD           0  54070  \n",
       "339   NVIDIA GeForce RTX 3050           6  94990  \n",
       "214  Intel Integrated Iris Xe           0  60990  \n",
       "661            AMD Radeon AMD           0  35990  \n",
       "821   NVIDIA GeForce RTX 2050           4  61990  "
      ]
     },
     "execution_count": 233,
     "metadata": {},
     "output_type": "execute_result"
    }
   ],
   "source": [
    "final.sample(5)"
   ]
  },
  {
   "cell_type": "code",
   "execution_count": 234,
   "metadata": {},
   "outputs": [],
   "source": [
    "final.to_json('laptops.json')"
   ]
  },
  {
   "cell_type": "code",
   "execution_count": null,
   "metadata": {},
   "outputs": [],
   "source": []
  }
 ],
 "metadata": {
  "kernelspec": {
   "display_name": "Python 3 (ipykernel)",
   "language": "python",
   "name": "python3"
  },
  "language_info": {
   "codemirror_mode": {
    "name": "ipython",
    "version": 3
   },
   "file_extension": ".py",
   "mimetype": "text/x-python",
   "name": "python",
   "nbconvert_exporter": "python",
   "pygments_lexer": "ipython3",
   "version": "3.9.18"
  }
 },
 "nbformat": 4,
 "nbformat_minor": 4
}
